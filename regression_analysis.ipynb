{
 "cells": [
  {
   "cell_type": "code",
   "execution_count": 1,
   "metadata": {},
   "outputs": [],
   "source": [
    "import pandas as pd\n",
    "import statsmodels.api as sm\n",
    "import matplotlib.pyplot as plt\n",
    "import numpy as np\n",
    "from scipy import stats\n",
    "import math\n",
    "import seaborn as sns\n",
    "\n",
    "household_df = pd.read_excel(\"UN Food Waste Index Source and Worksheet.xlsx\", sheet_name=\"Household Estimates\")\n",
    "\n",
    "food_service_df = pd.read_excel(\"UN Food Waste Index Source and Worksheet.xlsx\", sheet_name=\"Food Service Estimates\")\n",
    "\n",
    "retail_df = pd.read_excel(\"UN Food Waste Index Source and Worksheet.xlsx\", sheet_name=\"Retail Estimates\")"
   ]
  },
  {
   "cell_type": "code",
   "execution_count": 2,
   "metadata": {},
   "outputs": [
    {
     "data": {
      "text/plain": [
       "Index(['Region', 'M49 code', 'Country', 'ISO-alpha3 code',\n",
       "       'Household estimate (kg/capita/year)',\n",
       "       'Household estimate (tonnes/year)', 'Confidence in estimate',\n",
       "       '2020 Population', 'Access to Electricity CC',\n",
       "       '2020 GDP (2015 Constant)', 'GDP Per Capita (2015 Constant)',\n",
       "       'Tourism Receipts (Current USD$)', 'Tourism % GDP ',\n",
       "       'Agriculture, forestry, and fishing, value added (% of GDP)',\n",
       "       'Rural population', 'Food Production Index',\n",
       "       'Imports of goods and services (% of GDP)',\n",
       "       'Exports of goods and services (% of GDP)',\n",
       "       'Electric power consumption (kWh per capita)',\n",
       "       'Population density (people per sq. km of land area)'],\n",
       "      dtype='object')"
      ]
     },
     "execution_count": 2,
     "metadata": {},
     "output_type": "execute_result"
    }
   ],
   "source": [
    "household_df.columns"
   ]
  },
  {
   "cell_type": "code",
   "execution_count": 3,
   "metadata": {},
   "outputs": [
    {
     "data": {
      "text/html": [
       "<div>\n",
       "<style scoped>\n",
       "    .dataframe tbody tr th:only-of-type {\n",
       "        vertical-align: middle;\n",
       "    }\n",
       "\n",
       "    .dataframe tbody tr th {\n",
       "        vertical-align: top;\n",
       "    }\n",
       "\n",
       "    .dataframe thead th {\n",
       "        text-align: right;\n",
       "    }\n",
       "</style>\n",
       "<table border=\"1\" class=\"dataframe\">\n",
       "  <thead>\n",
       "    <tr style=\"text-align: right;\">\n",
       "      <th></th>\n",
       "      <th>GDP Per Capita (2015 Constant)</th>\n",
       "      <th>Household estimate (kg/capita/year)</th>\n",
       "    </tr>\n",
       "  </thead>\n",
       "  <tbody>\n",
       "    <tr>\n",
       "      <th>0</th>\n",
       "      <td>529.741210</td>\n",
       "      <td>81.729904</td>\n",
       "    </tr>\n",
       "    <tr>\n",
       "      <th>1</th>\n",
       "      <td>4410.455165</td>\n",
       "      <td>82.783773</td>\n",
       "    </tr>\n",
       "    <tr>\n",
       "      <th>2</th>\n",
       "      <td>3834.435591</td>\n",
       "      <td>91.016180</td>\n",
       "    </tr>\n",
       "    <tr>\n",
       "      <th>3</th>\n",
       "      <td>11839.010501</td>\n",
       "      <td>75.713119</td>\n",
       "    </tr>\n",
       "    <tr>\n",
       "      <th>4</th>\n",
       "      <td>34588.053724</td>\n",
       "      <td>84.272380</td>\n",
       "    </tr>\n",
       "    <tr>\n",
       "      <th>...</th>\n",
       "      <td>...</td>\n",
       "      <td>...</td>\n",
       "    </tr>\n",
       "    <tr>\n",
       "      <th>209</th>\n",
       "      <td>2661.572764</td>\n",
       "      <td>91.016180</td>\n",
       "    </tr>\n",
       "    <tr>\n",
       "      <th>211</th>\n",
       "      <td>3316.002658</td>\n",
       "      <td>76.161693</td>\n",
       "    </tr>\n",
       "    <tr>\n",
       "      <th>212</th>\n",
       "      <td>1144.416671</td>\n",
       "      <td>103.797982</td>\n",
       "    </tr>\n",
       "    <tr>\n",
       "      <th>213</th>\n",
       "      <td>1273.879558</td>\n",
       "      <td>77.920000</td>\n",
       "    </tr>\n",
       "    <tr>\n",
       "      <th>214</th>\n",
       "      <td>1307.013630</td>\n",
       "      <td>99.591297</td>\n",
       "    </tr>\n",
       "  </tbody>\n",
       "</table>\n",
       "<p>200 rows × 2 columns</p>\n",
       "</div>"
      ],
      "text/plain": [
       "     GDP Per Capita (2015 Constant)  Household estimate (kg/capita/year)\n",
       "0                        529.741210                            81.729904\n",
       "1                       4410.455165                            82.783773\n",
       "2                       3834.435591                            91.016180\n",
       "3                      11839.010501                            75.713119\n",
       "4                      34588.053724                            84.272380\n",
       "..                              ...                                  ...\n",
       "209                     2661.572764                            91.016180\n",
       "211                     3316.002658                            76.161693\n",
       "212                     1144.416671                           103.797982\n",
       "213                     1273.879558                            77.920000\n",
       "214                     1307.013630                            99.591297\n",
       "\n",
       "[200 rows x 2 columns]"
      ]
     },
     "execution_count": 3,
     "metadata": {},
     "output_type": "execute_result"
    }
   ],
   "source": [
    "household_df_with_two_columns = household_df[['GDP Per Capita (2015 Constant)', \"Household estimate (kg/capita/year)\"]].dropna(axis=0)\n",
    "# household_df_with_two_columns"
   ]
  },
  {
   "cell_type": "code",
   "execution_count": 4,
   "metadata": {},
   "outputs": [
    {
     "name": "stdout",
     "output_type": "stream",
     "text": [
      "                                     OLS Regression Results                                    \n",
      "===============================================================================================\n",
      "Dep. Variable:     Household estimate (kg/capita/year)   R-squared:                       0.069\n",
      "Model:                                             OLS   Adj. R-squared:                  0.065\n",
      "Method:                                  Least Squares   F-statistic:                     14.78\n",
      "Date:                                 Sat, 17 Dec 2022   Prob (F-statistic):           0.000163\n",
      "Time:                                         17:02:49   Log-Likelihood:                -860.88\n",
      "No. Observations:                                  200   AIC:                             1726.\n",
      "Df Residuals:                                      198   BIC:                             1732.\n",
      "Df Model:                                            1                                         \n",
      "Covariance Type:                             nonrobust                                         \n",
      "==================================================================================================\n",
      "                                     coef    std err          t      P>|t|      [0.025      0.975]\n",
      "--------------------------------------------------------------------------------------------------\n",
      "const                             87.7924      1.550     56.639      0.000      84.736      90.849\n",
      "GDP Per Capita (2015 Constant)    -0.0002   5.83e-05     -3.845      0.000      -0.000      -0.000\n",
      "==============================================================================\n",
      "Omnibus:                       71.565   Durbin-Watson:                   2.123\n",
      "Prob(Omnibus):                  0.000   Jarque-Bera (JB):              404.679\n",
      "Skew:                           1.233   Prob(JB):                     1.33e-88\n",
      "Kurtosis:                       9.518   Cond. No.                     3.24e+04\n",
      "==============================================================================\n",
      "\n",
      "Notes:\n",
      "[1] Standard Errors assume that the covariance matrix of the errors is correctly specified.\n",
      "[2] The condition number is large, 3.24e+04. This might indicate that there are\n",
      "strong multicollinearity or other numerical problems.\n"
     ]
    }
   ],
   "source": [
    "x_vars = 'GDP Per Capita (2015 Constant)'\n",
    "X = household_df_with_two_columns[x_vars]\n",
    "y_var = \"Household estimate (kg/capita/year)\"\n",
    "x1_modified=sm.add_constant(X)\n",
    "model_household = sm.OLS(household_df_with_two_columns[y_var], x1_modified).fit()\n",
    "print(model_household.summary())"
   ]
  },
  {
   "cell_type": "code",
   "execution_count": 23,
   "metadata": {},
   "outputs": [],
   "source": [
    "household_df_with_two_columns = household_df[['GDP Per Capita (2015 Constant)', \"Household estimate (kg/capita/year)\"]].dropna(axis=0)\n",
    "# household_df_with_two_columns"
   ]
  },
  {
   "cell_type": "code",
   "execution_count": 6,
   "metadata": {},
   "outputs": [
    {
     "data": {
      "text/plain": [
       "<seaborn.axisgrid.FacetGrid at 0x7f9b1946cb80>"
      ]
     },
     "execution_count": 6,
     "metadata": {},
     "output_type": "execute_result"
    },
    {
     "data": {
      "text/plain": [
       "<Figure size 1500x800 with 0 Axes>"
      ]
     },
     "metadata": {},
     "output_type": "display_data"
    },
    {
     "data": {
      "image/png": "[encoded data removed]",
      "text/plain": [
       "<Figure size 500x500 with 1 Axes>"
      ]
     },
     "metadata": {},
     "output_type": "display_data"
    }
   ],
   "source": [
    "plt.figure(figsize = (15,8))\n",
    "ax = sns.lmplot(x = x_vars,y = y_var,data=household_df_with_two_columns)\n",
    "ax.set_xticklabels(rotation = 30, size = 10)\n",
    "ax.set(xlim = (0, None), title = 'Household Food Waste Estimate')"
   ]
  },
  {
   "cell_type": "code",
   "execution_count": 7,
   "metadata": {},
   "outputs": [
    {
     "data": {
      "text/plain": [
       "Index(['Region', 'M49 code', 'Country', 'ISO-alpha3 code',\n",
       "       'Household estimate (kg/capita/year)',\n",
       "       'Household estimate (tonnes/year)', 'Confidence in estimate',\n",
       "       '2020 Population', 'Access to Electricity CC',\n",
       "       '2020 GDP (2015 Constant)', 'GDP Per Capita (2015 Constant)',\n",
       "       'Tourism Receipts (Current USD$)', 'Tourism % GDP ',\n",
       "       'Agriculture, forestry, and fishing, value added (% of GDP)',\n",
       "       'Rural population', 'Food Production Index',\n",
       "       'Imports of goods and services (% of GDP)',\n",
       "       'Exports of goods and services (% of GDP)',\n",
       "       'Electric power consumption (kWh per capita)',\n",
       "       'Population density (people per sq. km of land area)'],\n",
       "      dtype='object')"
      ]
     },
     "execution_count": 7,
     "metadata": {},
     "output_type": "execute_result"
    }
   ],
   "source": [
    "household_df.columns"
   ]
  },
  {
   "cell_type": "code",
   "execution_count": 32,
   "metadata": {},
   "outputs": [
    {
     "name": "stdout",
     "output_type": "stream",
     "text": [
      "Household estimate (kg/capita/year)\n",
      "                                     OLS Regression Results                                    \n",
      "===============================================================================================\n",
      "Dep. Variable:     Household estimate (kg/capita/year)   R-squared:                       0.196\n",
      "Model:                                             OLS   Adj. R-squared:                  0.153\n",
      "Method:                                  Least Squares   F-statistic:                     4.598\n",
      "Date:                                 Sat, 17 Dec 2022   Prob (F-statistic):           7.47e-06\n",
      "Time:                                         17:10:35   Log-Likelihood:                -846.30\n",
      "No. Observations:                                  200   AIC:                             1715.\n",
      "Df Residuals:                                      189   BIC:                             1751.\n",
      "Df Model:                                           10                                         \n",
      "Covariance Type:                             nonrobust                                         \n",
      "==============================================================================================================================\n",
      "                                                                 coef    std err          t      P>|t|      [0.025      0.975]\n",
      "------------------------------------------------------------------------------------------------------------------------------\n",
      "const                                                         67.8972      6.141     11.056      0.000      55.783      80.012\n",
      "Access to Electricity CC                                       0.0562      0.053      1.057      0.292      -0.049       0.161\n",
      "2020 GDP (2015 Constant)                                     -10.2444     22.485     -0.456      0.649     -54.598      34.109\n",
      "Tourism Receipts (Current USD$)                              -12.0598     22.784     -0.529      0.597     -57.003      32.883\n",
      "Agriculture, forestry, and fishing, value added (% of GDP)     0.7035      0.149      4.733      0.000       0.410       0.997\n",
      "Rural population                                           -3.081e-08   1.88e-08     -1.641      0.102   -6.78e-08    6.22e-09\n",
      "Food Production Index                                          0.0464      0.042      1.103      0.271      -0.037       0.129\n",
      "Imports of goods and services (% of GDP)                      -0.0148      0.079     -0.189      0.851      -0.170       0.140\n",
      "Exports of goods and services (% of GDP)                       0.0475      0.079      0.604      0.546      -0.108       0.203\n",
      "Electric power consumption (kWh per capita)                -6.082e-05      0.000     -0.238      0.812      -0.001       0.000\n",
      "Population density (people per sq. km of land area)        -9.934e-05      0.001     -0.162      0.872      -0.001       0.001\n",
      "==============================================================================\n",
      "Omnibus:                       86.450   Durbin-Watson:                   2.288\n",
      "Prob(Omnibus):                  0.000   Jarque-Bera (JB):              563.352\n",
      "Skew:                           1.497   Prob(JB):                    4.67e-123\n",
      "Kurtosis:                      10.657   Cond. No.                     1.91e+09\n",
      "==============================================================================\n",
      "\n",
      "Notes:\n",
      "[1] Standard Errors assume that the covariance matrix of the errors is correctly specified.\n",
      "[2] The condition number is large, 1.91e+09. This might indicate that there are\n",
      "strong multicollinearity or other numerical problems.\n"
     ]
    }
   ],
   "source": [
    "household_df = household_df.dropna()\n",
    "\n",
    "y_var = \"Household estimate (kg/capita/year)\"\n",
    "\n",
    "x_vars = [\n",
    "    \"Access to Electricity CC\",\n",
    "    \"2020 GDP (2015 Constant)\",\n",
    "    \"Tourism Receipts (Current USD$)\",\n",
    "'Agriculture, forestry, and fishing, value added (% of GDP)',\n",
    "'Rural population',\n",
    "'Food Production Index',\n",
    "'Imports of goods and services (% of GDP)',\n",
    "    'Exports of goods and services (% of GDP)',\n",
    "    'Electric power consumption (kWh per capita)',\n",
    "'Population density (people per sq. km of land area)'\n",
    "]\n",
    "# x_vars = [\n",
    "#     \"Access to Electricity CC\",\n",
    "#     \"GDP Per Capita (2015 Constant)\",\n",
    "#     \"Tourism % GDP \"]\n",
    "\n",
    "\n",
    "household_df[\"2020 GDP (2015 Constant)\"] = ((household_df[\"2020 GDP (2015 Constant)\"]-household_df[\"2020 GDP (2015 Constant)\"].mean())/(household_df[\"2020 GDP (2015 Constant)\"].max()-household_df[\"2020 GDP (2015 Constant)\"].min()))\n",
    "household_df[\"Tourism Receipts (Current USD$)\"] = ((household_df[\"Tourism Receipts (Current USD$)\"]-household_df[\"Tourism Receipts (Current USD$)\"].mean())/(household_df[\"Tourism Receipts (Current USD$)\"].max()-household_df[\"Tourism Receipts (Current USD$)\"].min()))\n",
    "\n",
    "\n",
    "X = household_df[x_vars]\n",
    "x_modified=sm.add_constant(X)\n",
    "model_household = sm.OLS(household_df[y_var], x_modified).fit()\n",
    "\n",
    "\n",
    "# # # Get the coefficients, p-values, and standard errors & odds ratio\n",
    "# # coefs = model_household.params\n",
    "# # p_values = model_household.pvalues\n",
    "# # std_errors = model_household.bse\n",
    "\n",
    "\n",
    "# # # Print the results in a table\n",
    "# # table_household = pd.DataFrame({\n",
    "# #     'Variable': x_modified.columns,\n",
    "# #     'Coefficient': coefs,\n",
    "# #     'p-value': p_values,\n",
    "# #     'Standard Error': std_errors,\n",
    "    \n",
    "# # })\n",
    "\n",
    "\n",
    "# ## Print the table dataframe\n",
    "# # print(table_household)\n",
    "\n",
    "# ## Write the table dataframe to a CSV file\n",
    "# # table_household.to_csv('Household table.csv')\n",
    "\n",
    "## Print Summary Statistics\n",
    "\n",
    "print(y_var)\n",
    "print(model_household.summary())\n",
    "\n",
    "##Print Confidence Interval\n",
    "# print(model_household.conf_int(alpha=0.05, cols=None))\n",
    "\n",
    "# # Calculate the correlation matrix\n",
    "# corr_matrix = x_modified.corr()\n",
    "\n",
    "# # Print the correlation matrix\n",
    "# # print(corr_matrix)\n",
    "\n",
    "\n",
    "# # ##Write the dataframe to a CSV file\n",
    "# # corr_matrix.to_csv('Household corr_matrix.csv')\n",
    "\n",
    "\n"
   ]
  },
  {
   "cell_type": "code",
   "execution_count": 9,
   "metadata": {},
   "outputs": [
    {
     "data": {
      "text/plain": [
       "Index(['Region', 'M49 code', 'Country', 'Country Code',\n",
       "       'Food service estimate (kg/capita/year)',\n",
       "       'Food service estimate (tonnes/year)', 'Confidence in estimate',\n",
       "       '2020 Population', '2020 Access to Electricity CC',\n",
       "       '2020 GDP (2015 Constant)', 'GDP Per Capita (2015 Constant)',\n",
       "       'Tourism Receipts (Current USD)', 'Tourism % GDP ',\n",
       "       'Agriculture, forestry, and fishing, value added (% of GDP)',\n",
       "       'Rural population', 'Food Production Index',\n",
       "       'Imports of goods and services (% of GDP)',\n",
       "       'Exports of goods and services (% of GDP)',\n",
       "       'Electric power consumption (kWh per capita)',\n",
       "       'Population density (people per sq. km of land area)'],\n",
       "      dtype='object')"
      ]
     },
     "execution_count": 9,
     "metadata": {},
     "output_type": "execute_result"
    }
   ],
   "source": [
    "food_service_df.columns"
   ]
  },
  {
   "cell_type": "code",
   "execution_count": 10,
   "metadata": {},
   "outputs": [
    {
     "data": {
      "text/html": [
       "<div>\n",
       "<style scoped>\n",
       "    .dataframe tbody tr th:only-of-type {\n",
       "        vertical-align: middle;\n",
       "    }\n",
       "\n",
       "    .dataframe tbody tr th {\n",
       "        vertical-align: top;\n",
       "    }\n",
       "\n",
       "    .dataframe thead th {\n",
       "        text-align: right;\n",
       "    }\n",
       "</style>\n",
       "<table border=\"1\" class=\"dataframe\">\n",
       "  <thead>\n",
       "    <tr style=\"text-align: right;\">\n",
       "      <th></th>\n",
       "      <th>GDP Per Capita (2015 Constant)</th>\n",
       "      <th>Food service estimate (kg/capita/year)</th>\n",
       "    </tr>\n",
       "  </thead>\n",
       "  <tbody>\n",
       "    <tr>\n",
       "      <th>0</th>\n",
       "      <td>529.741210</td>\n",
       "      <td>27.648075</td>\n",
       "    </tr>\n",
       "    <tr>\n",
       "      <th>1</th>\n",
       "      <td>4410.455165</td>\n",
       "      <td>27.648075</td>\n",
       "    </tr>\n",
       "    <tr>\n",
       "      <th>2</th>\n",
       "      <td>3834.435591</td>\n",
       "      <td>27.648075</td>\n",
       "    </tr>\n",
       "    <tr>\n",
       "      <th>3</th>\n",
       "      <td>11839.010501</td>\n",
       "      <td>27.648075</td>\n",
       "    </tr>\n",
       "    <tr>\n",
       "      <th>4</th>\n",
       "      <td>34588.053724</td>\n",
       "      <td>25.570418</td>\n",
       "    </tr>\n",
       "    <tr>\n",
       "      <th>...</th>\n",
       "      <td>...</td>\n",
       "      <td>...</td>\n",
       "    </tr>\n",
       "    <tr>\n",
       "      <th>209</th>\n",
       "      <td>2661.572764</td>\n",
       "      <td>27.648075</td>\n",
       "    </tr>\n",
       "    <tr>\n",
       "      <th>211</th>\n",
       "      <td>3316.002658</td>\n",
       "      <td>27.648075</td>\n",
       "    </tr>\n",
       "    <tr>\n",
       "      <th>212</th>\n",
       "      <td>1144.416671</td>\n",
       "      <td>27.648075</td>\n",
       "    </tr>\n",
       "    <tr>\n",
       "      <th>213</th>\n",
       "      <td>1273.879558</td>\n",
       "      <td>27.648075</td>\n",
       "    </tr>\n",
       "    <tr>\n",
       "      <th>214</th>\n",
       "      <td>1307.013630</td>\n",
       "      <td>27.648075</td>\n",
       "    </tr>\n",
       "  </tbody>\n",
       "</table>\n",
       "<p>200 rows × 2 columns</p>\n",
       "</div>"
      ],
      "text/plain": [
       "     GDP Per Capita (2015 Constant)  Food service estimate (kg/capita/year)\n",
       "0                        529.741210                               27.648075\n",
       "1                       4410.455165                               27.648075\n",
       "2                       3834.435591                               27.648075\n",
       "3                      11839.010501                               27.648075\n",
       "4                      34588.053724                               25.570418\n",
       "..                              ...                                     ...\n",
       "209                     2661.572764                               27.648075\n",
       "211                     3316.002658                               27.648075\n",
       "212                     1144.416671                               27.648075\n",
       "213                     1273.879558                               27.648075\n",
       "214                     1307.013630                               27.648075\n",
       "\n",
       "[200 rows x 2 columns]"
      ]
     },
     "execution_count": 10,
     "metadata": {},
     "output_type": "execute_result"
    }
   ],
   "source": [
    "food_service_df_with_two_columns = food_service_df[['GDP Per Capita (2015 Constant)', \"Food service estimate (kg/capita/year)\"]].dropna(axis=0)\n",
    "food_service_df_with_two_columns"
   ]
  },
  {
   "cell_type": "code",
   "execution_count": 22,
   "metadata": {},
   "outputs": [],
   "source": [
    "x_vars = 'GDP Per Capita (2015 Constant)'\n",
    "X = food_service_df_with_two_columns[x_vars]\n",
    "y_var = \"Food service estimate (kg/capita/year)\"\n",
    "x1_modified=sm.add_constant(X)\n",
    "model_household = sm.OLS(food_service_df_with_two_columns[y_var], x1_modified).fit()\n",
    "# print(model_household.summary())"
   ]
  },
  {
   "cell_type": "code",
   "execution_count": 12,
   "metadata": {},
   "outputs": [
    {
     "data": {
      "text/plain": [
       "<seaborn.axisgrid.FacetGrid at 0x7f9aec47c5e0>"
      ]
     },
     "execution_count": 12,
     "metadata": {},
     "output_type": "execute_result"
    },
    {
     "data": {
      "text/plain": [
       "<Figure size 1500x800 with 0 Axes>"
      ]
     },
     "metadata": {},
     "output_type": "display_data"
    },
    {
     "data": {
      "image/png": "[encoded data removed]",
      "text/plain": [
       "<Figure size 500x500 with 1 Axes>"
      ]
     },
     "metadata": {},
     "output_type": "display_data"
    }
   ],
   "source": [
    "plt.figure(figsize = (15,8))\n",
    "ax = sns.lmplot(x = x_vars,y = y_var,data=food_service_df_with_two_columns)\n",
    "ax.set_xticklabels(rotation = 30, size = 10)\n",
    "ax.set(xlim = (0, None), title = 'Food Service Food Waste Estimate')\n"
   ]
  },
  {
   "cell_type": "code",
   "execution_count": 13,
   "metadata": {},
   "outputs": [
    {
     "data": {
      "text/plain": [
       "Int64Index([  0,   1,   2,   3,   4,   5,   6,   7,   8,   9,\n",
       "            ...\n",
       "            204, 205, 206, 207, 208, 209, 211, 212, 213, 214],\n",
       "           dtype='int64', length=199)"
      ]
     },
     "execution_count": 13,
     "metadata": {},
     "output_type": "execute_result"
    }
   ],
   "source": [
    "food_service_df = food_service_df.dropna()\n",
    "food_service_df.index"
   ]
  },
  {
   "cell_type": "code",
   "execution_count": 28,
   "metadata": {},
   "outputs": [
    {
     "name": "stdout",
     "output_type": "stream",
     "text": [
      "Food service estimate (kg/capita/year)\n",
      "                                      OLS Regression Results                                      \n",
      "==================================================================================================\n",
      "Dep. Variable:     Food service estimate (kg/capita/year)   R-squared:                       0.162\n",
      "Model:                                                OLS   Adj. R-squared:                  0.117\n",
      "Method:                                     Least Squares   F-statistic:                     3.635\n",
      "Date:                                    Sat, 17 Dec 2022   Prob (F-statistic):           0.000190\n",
      "Time:                                            17:06:12   Log-Likelihood:                -643.65\n",
      "No. Observations:                                     199   AIC:                             1309.\n",
      "Df Residuals:                                         188   BIC:                             1346.\n",
      "Df Model:                                              10                                         \n",
      "Covariance Type:                                nonrobust                                         \n",
      "==============================================================================================================================\n",
      "                                                                 coef    std err          t      P>|t|      [0.025      0.975]\n",
      "------------------------------------------------------------------------------------------------------------------------------\n",
      "const                                                         29.2196      2.085     14.017      0.000      25.107      33.332\n",
      "2020 Access to Electricity CC                                 -0.0075      0.019     -0.394      0.694      -0.045       0.030\n",
      "2020 GDP (2015 Constant)                                      21.0328      8.113      2.593      0.010       5.029      37.037\n",
      "Tourism Receipts (Current USD)                                10.8097      8.387      1.289      0.199      -5.735      27.354\n",
      "Agriculture, forestry, and fishing, value added (% of GDP)     0.0331      0.054      0.611      0.542      -0.074       0.140\n",
      "Rural population                                           -7.961e-10   6.75e-09     -0.118      0.906   -1.41e-08    1.25e-08\n",
      "Food Production Index                                         -0.0198      0.014     -1.373      0.171      -0.048       0.009\n",
      "Imports of goods and services (% of GDP)                       0.0310      0.029      1.075      0.284      -0.026       0.088\n",
      "Exports of goods and services (% of GDP)                      -0.0270      0.029     -0.936      0.351      -0.084       0.030\n",
      "Electric power consumption (kWh per capita)                -6.178e-05   9.74e-05     -0.634      0.527      -0.000       0.000\n",
      "Population density (people per sq. km of land area)         4.504e-05      0.000      0.199      0.842      -0.000       0.000\n",
      "==============================================================================\n",
      "Omnibus:                      243.020   Durbin-Watson:                   1.999\n",
      "Prob(Omnibus):                  0.000   Jarque-Bera (JB):            23714.867\n",
      "Skew:                           4.659   Prob(JB):                         0.00\n",
      "Kurtosis:                      55.662   Cond. No.                     1.90e+09\n",
      "==============================================================================\n",
      "\n",
      "Notes:\n",
      "[1] Standard Errors assume that the covariance matrix of the errors is correctly specified.\n",
      "[2] The condition number is large, 1.9e+09. This might indicate that there are\n",
      "strong multicollinearity or other numerical problems.\n"
     ]
    }
   ],
   "source": [
    "y_var = \"Food service estimate (kg/capita/year)\"\n",
    "\n",
    "\n",
    "x_vars = [\n",
    "    \"2020 Access to Electricity CC\",\n",
    "    \"2020 GDP (2015 Constant)\",\n",
    "    \"Tourism Receipts (Current USD)\",\n",
    "    'Agriculture, forestry, and fishing, value added (% of GDP)',\n",
    "'Rural population',\n",
    "'Food Production Index',\n",
    "'Imports of goods and services (% of GDP)',\n",
    "    'Exports of goods and services (% of GDP)',\n",
    "    'Electric power consumption (kWh per capita)',\n",
    "'Population density (people per sq. km of land area)'\n",
    "]\n",
    "# x_vars = [\n",
    "#     \"2020 Access to Electricity CC\",\n",
    "#     \"GDP Per Capita (2015 Constant)\",\n",
    "#     \"Tourism % GDP \"]\n",
    "\n",
    "# Use below if you need to normalize\n",
    "food_service_df[\"2020 GDP (2015 Constant)\"] = ((food_service_df[\"2020 GDP (2015 Constant)\"]-food_service_df[\"2020 GDP (2015 Constant)\"].mean())/(food_service_df[\"2020 GDP (2015 Constant)\"].max()-food_service_df[\"2020 GDP (2015 Constant)\"].min()))\n",
    "food_service_df[\"Tourism Receipts (Current USD)\"] = ((food_service_df[\"Tourism Receipts (Current USD)\"]-food_service_df[\"Tourism Receipts (Current USD)\"].mean())/(food_service_df[\"Tourism Receipts (Current USD)\"].max()-food_service_df[\"Tourism Receipts (Current USD)\"].min()))\n",
    "\n",
    "\n",
    "X = food_service_df[x_vars]\n",
    "x_modified=sm.add_constant(X)\n",
    "model_food_service = sm.OLS(food_service_df[y_var],x_modified).fit()\n",
    "\n",
    "# Get the coefficients, p-values, and standard errors\n",
    "coefs = model_food_service.params\n",
    "p_values = model_food_service.pvalues\n",
    "std_errors = model_food_service.bse\n",
    "\n",
    "# # Print the results in a table\n",
    "# table_food_service = pd.DataFrame({\n",
    "#     'Variable': x_modified.columns,\n",
    "#     'Coefficient': coefs,\n",
    "#     'p-value': p_values,\n",
    "#     'Standard Error': std_errors\n",
    "# })\n",
    "\n",
    "# # Print the table\n",
    "# print(table_food_service)\n",
    "# # Write the dataframe to a CSV file\n",
    "# table_food_service.to_csv('Table Food Service.csv')\n",
    "\n",
    "##Print the confidence interval\n",
    "# print(model_food_service.conf_int(alpha=0.05, cols=None))\n",
    "\n",
    "##Print Food Service Summary Statistics\n",
    "print(y_var)\n",
    "print(model_food_service.summary())\n",
    "\n",
    "# Calculate the correlation matrix\n",
    "# corr_matrix = x_modified.corr()\n",
    "\n",
    "# # Print the correlation matrix\n",
    "# print(corr_matrix)\n",
    "\n",
    "##Write the dataframe to a CSV file\n",
    "# corr_matrix.to_csv('food service corr_matrix.csv')\n",
    "\n",
    "\n",
    "\n",
    "\n",
    "\n"
   ]
  },
  {
   "cell_type": "code",
   "execution_count": 15,
   "metadata": {},
   "outputs": [
    {
     "data": {
      "text/plain": [
       "Index(['Region', 'M49 code', 'Country Code', 'Country',\n",
       "       'Retail estimate (kg/capita/year)', 'Retail estimate (tonnes/year)',\n",
       "       'Confidence in estimate', '2020 Population',\n",
       "       '2020 Access to Electricity CC', '2020 GDP (2015 Constant)',\n",
       "       'GDP Per Capita (2015 Constant)', 'Tourism Receipts (Current USD$)',\n",
       "       'Tourism % GDP ',\n",
       "       'Agriculture, forestry, and fishing, value added (% of GDP)',\n",
       "       'Rural population', 'Food Production Index',\n",
       "       'Imports of goods and services (% of GDP)',\n",
       "       'Exports of goods and services (% of GDP)',\n",
       "       'Electric power consumption (kWh per capita)',\n",
       "       'Population density (people per sq. km of land area)'],\n",
       "      dtype='object')"
      ]
     },
     "execution_count": 15,
     "metadata": {},
     "output_type": "execute_result"
    }
   ],
   "source": [
    "retail_df.columns"
   ]
  },
  {
   "cell_type": "code",
   "execution_count": 29,
   "metadata": {},
   "outputs": [],
   "source": [
    "retail_df_with_two_columns = retail_df[['GDP Per Capita (2015 Constant)', \"Retail estimate (kg/capita/year)\"]].dropna(axis=0)\n",
    "# retail_df_with_two_columns"
   ]
  },
  {
   "cell_type": "code",
   "execution_count": 33,
   "metadata": {},
   "outputs": [
    {
     "name": "stdout",
     "output_type": "stream",
     "text": [
      "                                   OLS Regression Results                                   \n",
      "============================================================================================\n",
      "Dep. Variable:     Retail estimate (kg/capita/year)   R-squared:                       0.027\n",
      "Model:                                          OLS   Adj. R-squared:                  0.022\n",
      "Method:                               Least Squares   F-statistic:                     5.456\n",
      "Date:                              Sat, 17 Dec 2022   Prob (F-statistic):             0.0205\n",
      "Time:                                      17:12:20   Log-Likelihood:                -631.38\n",
      "No. Observations:                               198   AIC:                             1267.\n",
      "Df Residuals:                                   196   BIC:                             1273.\n",
      "Df Model:                                         1                                         \n",
      "Covariance Type:                          nonrobust                                         \n",
      "==================================================================================================\n",
      "                                     coef    std err          t      P>|t|      [0.025      0.975]\n",
      "--------------------------------------------------------------------------------------------------\n",
      "const                             15.5791      0.511     30.495      0.000      14.572      16.587\n",
      "GDP Per Capita (2015 Constant) -4.468e-05   1.91e-05     -2.336      0.021   -8.24e-05   -6.96e-06\n",
      "==============================================================================\n",
      "Omnibus:                      321.391   Durbin-Watson:                   2.088\n",
      "Prob(Omnibus):                  0.000   Jarque-Bera (JB):            49873.301\n",
      "Skew:                           7.775   Prob(JB):                         0.00\n",
      "Kurtosis:                      79.180   Cond. No.                     3.25e+04\n",
      "==============================================================================\n",
      "\n",
      "Notes:\n",
      "[1] Standard Errors assume that the covariance matrix of the errors is correctly specified.\n",
      "[2] The condition number is large, 3.25e+04. This might indicate that there are\n",
      "strong multicollinearity or other numerical problems.\n"
     ]
    }
   ],
   "source": [
    "x_vars = 'GDP Per Capita (2015 Constant)'\n",
    "X = retail_df_with_two_columns[x_vars]\n",
    "y_var = \"Retail estimate (kg/capita/year)\"\n",
    "x1_modified=sm.add_constant(X)\n",
    "model_household = sm.OLS(retail_df_with_two_columns[y_var], x1_modified).fit()\n",
    "print(model_household.summary())"
   ]
  },
  {
   "cell_type": "code",
   "execution_count": 18,
   "metadata": {},
   "outputs": [
    {
     "data": {
      "text/plain": [
       "<seaborn.axisgrid.FacetGrid at 0x7f9ae978c7c0>"
      ]
     },
     "execution_count": 18,
     "metadata": {},
     "output_type": "execute_result"
    },
    {
     "data": {
      "text/plain": [
       "<Figure size 1500x800 with 0 Axes>"
      ]
     },
     "metadata": {},
     "output_type": "display_data"
    },
    {
     "data": {
      "image/png": "[encoded data removed]",
      "text/plain": [
       "<Figure size 500x500 with 1 Axes>"
      ]
     },
     "metadata": {},
     "output_type": "display_data"
    }
   ],
   "source": [
    "plt.figure(figsize = (15,8))\n",
    "ax = sns.lmplot(x = x_vars,y = y_var,data=retail_df_with_two_columns)\n",
    "ax.set_xticklabels(rotation = 30, size = 10)\n",
    "ax.set(xlim = (0, None), title = 'Retail Food Waste Estimate')"
   ]
  },
  {
   "cell_type": "code",
   "execution_count": 19,
   "metadata": {},
   "outputs": [
    {
     "data": {
      "text/plain": [
       "Index(['Region', 'M49 code', 'Country Code', 'Country',\n",
       "       'Retail estimate (kg/capita/year)', 'Retail estimate (tonnes/year)',\n",
       "       'Confidence in estimate', '2020 Population',\n",
       "       '2020 Access to Electricity CC', '2020 GDP (2015 Constant)',\n",
       "       'GDP Per Capita (2015 Constant)', 'Tourism Receipts (Current USD$)',\n",
       "       'Tourism % GDP ',\n",
       "       'Agriculture, forestry, and fishing, value added (% of GDP)',\n",
       "       'Rural population', 'Food Production Index',\n",
       "       'Imports of goods and services (% of GDP)',\n",
       "       'Exports of goods and services (% of GDP)',\n",
       "       'Electric power consumption (kWh per capita)',\n",
       "       'Population density (people per sq. km of land area)'],\n",
       "      dtype='object')"
      ]
     },
     "execution_count": 19,
     "metadata": {},
     "output_type": "execute_result"
    }
   ],
   "source": [
    "retail_df = retail_df.dropna()\n",
    "retail_df.columns"
   ]
  },
  {
   "cell_type": "code",
   "execution_count": 20,
   "metadata": {},
   "outputs": [
    {
     "name": "stdout",
     "output_type": "stream",
     "text": [
      "Retail estimate (kg/capita/year)\n",
      "                                   OLS Regression Results                                   \n",
      "============================================================================================\n",
      "Dep. Variable:     Retail estimate (kg/capita/year)   R-squared:                       0.021\n",
      "Model:                                          OLS   Adj. R-squared:                 -0.032\n",
      "Method:                               Least Squares   F-statistic:                    0.3929\n",
      "Date:                              Sat, 17 Dec 2022   Prob (F-statistic):              0.949\n",
      "Time:                                      17:02:50   Log-Likelihood:                -632.04\n",
      "No. Observations:                               198   AIC:                             1286.\n",
      "Df Residuals:                                   187   BIC:                             1322.\n",
      "Df Model:                                        10                                         \n",
      "Covariance Type:                          nonrobust                                         \n",
      "==============================================================================================================================\n",
      "                                                                 coef    std err          t      P>|t|      [0.025      0.975]\n",
      "------------------------------------------------------------------------------------------------------------------------------\n",
      "const                                                         15.6948      2.422      6.480      0.000      10.917      20.473\n",
      "2020 Access to Electricity CC                                 -0.0196      0.021     -0.943      0.347      -0.060       0.021\n",
      "2020 GDP (2015 Constant)                                      -2.8219      7.756     -0.364      0.716     -18.123      12.479\n",
      "Tourism Receipts (Current USD$)                                3.4064      8.103      0.420      0.675     -12.579      19.391\n",
      "Agriculture, forestry, and fishing, value added (% of GDP)    -0.0487      0.056     -0.875      0.383      -0.159       0.061\n",
      "Rural population                                            6.258e-10   6.48e-09      0.097      0.923   -1.21e-08    1.34e-08\n",
      "Food Production Index                                          0.0144      0.014      1.024      0.307      -0.013       0.042\n",
      "Imports of goods and services (% of GDP)                       0.0078      0.028      0.280      0.780      -0.047       0.063\n",
      "Exports of goods and services (% of GDP)                      -0.0026      0.028     -0.093      0.926      -0.057       0.052\n",
      "Electric power consumption (kWh per capita)                   -0.0001   9.35e-05     -1.312      0.191      -0.000    6.18e-05\n",
      "Population density (people per sq. km of land area)         2.618e-05      0.000      0.121      0.904      -0.000       0.000\n",
      "==============================================================================\n",
      "Omnibus:                      310.529   Durbin-Watson:                   2.144\n",
      "Prob(Omnibus):                  0.000   Jarque-Bera (JB):            43999.125\n",
      "Skew:                           7.303   Prob(JB):                         0.00\n",
      "Kurtosis:                      74.553   Cond. No.                     1.90e+09\n",
      "==============================================================================\n",
      "\n",
      "Notes:\n",
      "[1] Standard Errors assume that the covariance matrix of the errors is correctly specified.\n",
      "[2] The condition number is large, 1.9e+09. This might indicate that there are\n",
      "strong multicollinearity or other numerical problems.\n",
      "                                        0          1\n",
      "const                           14.587077  16.582289\n",
      "GDP Per Capita (2015 Constant)  -0.000082  -0.000007\n"
     ]
    }
   ],
   "source": [
    "y_var = \"Retail estimate (kg/capita/year)\"\n",
    "\n",
    "x_vars = [\n",
    "    \"2020 Access to Electricity CC\",\n",
    "    \"2020 GDP (2015 Constant)\",\n",
    "    \"Tourism Receipts (Current USD$)\",\n",
    "'Agriculture, forestry, and fishing, value added (% of GDP)',\n",
    "'Rural population',\n",
    "'Food Production Index',\n",
    "'Imports of goods and services (% of GDP)',\n",
    "    'Exports of goods and services (% of GDP)',\n",
    "    'Electric power consumption (kWh per capita)',\n",
    "'Population density (people per sq. km of land area)'\n",
    "]\n",
    "# x_vars = [\n",
    "#     \"2020 Access to Electricity CC\",\n",
    "#     \"GDP Per Capita (2015 Constant)\",\n",
    "#     \"Tourism % GDP \"]\n",
    "\n",
    "#Use below if you need to normalize\n",
    "retail_df[\"2020 GDP (2015 Constant)\"] = ((retail_df[\"2020 GDP (2015 Constant)\"]-retail_df[\"2020 GDP (2015 Constant)\"].mean())/(retail_df[\"2020 GDP (2015 Constant)\"].max()-retail_df[\"2020 GDP (2015 Constant)\"].min()))\n",
    "retail_df[\"Tourism Receipts (Current USD$)\"] = ((retail_df[\"Tourism Receipts (Current USD$)\"]-retail_df[\"Tourism Receipts (Current USD$)\"].mean())/(retail_df[\"Tourism Receipts (Current USD$)\"].max()-retail_df[\"Tourism Receipts (Current USD$)\"].min()))\n",
    "\n",
    "X = retail_df[x_vars]\n",
    "x_modified=sm.add_constant(X)\n",
    "\n",
    "model_retail = sm.OLS(retail_df[y_var],x_modified).fit()\n",
    "\n",
    "# This is for the summary table \n",
    "# Get the coefficients, p-values, and standard errors\n",
    "coefs = model_retail.params\n",
    "p_values = model_retail.pvalues\n",
    "std_errors = model_retail.bse\n",
    "\n",
    "# Print the results in a table\n",
    "table_retail = pd.DataFrame({\n",
    "    'Variable': x_modified.columns,\n",
    "    'Coefficient': coefs,\n",
    "    'p-value': p_values,\n",
    "    'Standard Error': std_errors\n",
    "})\n",
    "\n",
    "# # Print the dataframe\n",
    "# print(table_retail)\n",
    "\n",
    "# # Write the dataframe to a CSV file\n",
    "# table_retail.to_csv('Table Retail.csv')\n",
    "\n",
    "print(y_var)\n",
    "print(model_retail.summary())\n",
    "\n",
    "print(model_household.conf_int(alpha=0.05, cols=None))\n",
    "# household_df.head()\n",
    "\n",
    "# Calculate the correlation matrix\n",
    "corr_matrix = x_modified.corr()\n",
    "\n",
    "# Print the correlation matrix\n",
    "# print(corr_matrix)\n",
    "\n",
    "##Write the dataframe to a CSV file\n",
    "corr_matrix.to_csv('retail corr_matrix.csv')\n",
    "\n"
   ]
  },
  {
   "cell_type": "code",
   "execution_count": 21,
   "metadata": {
    "jupyter": {
     "source_hidden": true
    },
    "tags": []
   },
   "outputs": [],
   "source": [
    "# #This cell is being used for attempting to make more informative plots\n",
    "\n",
    "# # Define the data\n",
    "# access_to_electricity = [\"2020 Access to Electricity CC\"]\n",
    "# gdp_per_capita = [\"GDP Per Capita (2015 Constant)\"]\n",
    "# tourism_percentage_gdp = [\"Tourism % GDP\"]\n",
    "# retail_estimates = [\"const\"]\n",
    "\n",
    "# # Define the actual observations\n",
    "# observation_access_to_electricity = [\"2020 Access to Electricity CC\"]\n",
    "# observation_gdp_per_capita = [\"GDP Per Capita (2015 Constant)\"]\n",
    "# observation_retail_estimates = [\"const\"]\n",
    "\n",
    "# # Create the scatter plot with two y-axes\n",
    "# fig, ax1 = plt.subplots()\n",
    "# ax2 = ax1.twinx()\n",
    "\n",
    "# # Plot the data for the first independent variable on the first y-axis\n",
    "# ax1.scatter(access_to_electricity, retail_estimates, label=\"Access to Electricity\")\n",
    "\n",
    "# # Plot the data for the second independent variable on the second y-axis\n",
    "# ax2.scatter(gdp_per_capita, retail_estimates, label=\"GDP Per Capita\")\n",
    "\n",
    "# # Plot the actual observations on the first y-axis\n",
    "# ax1.scatter(observation_access_to_electricity, observation_retail_estimates, label=\"Actual Observations\", color=\"red\")\n",
    "\n",
    "# # Add a legend and label the axes\n",
    "# ax1.legend(loc=1)\n",
    "# ax2.legend(loc=2)\n",
    "# ax1.set_xlabel(\"Access to Electricity and Tourism % GDP\")\n",
    "# ax1.set_ylabel(\"Retail Estimate (kg/capita/year)\")\n",
    "# ax2.set_ylabel(\"GDP Per Capita\")\n",
    "\n",
    "# # Show the plot\n",
    "# plt.show()"
   ]
  },
  {
   "cell_type": "code",
   "execution_count": null,
   "metadata": {
    "tags": []
   },
   "outputs": [],
   "source": []
  },
  {
   "cell_type": "code",
   "execution_count": null,
   "metadata": {},
   "outputs": [],
   "source": []
  }
 ],
 "metadata": {
  "kernelspec": {
   "display_name": "Python 3 (ipykernel)",
   "language": "python",
   "name": "python3"
  },
  "language_info": {
   "codemirror_mode": {
    "name": "ipython",
    "version": 3
   },
   "file_extension": ".py",
   "mimetype": "text/x-python",
   "name": "python",
   "nbconvert_exporter": "python",
   "pygments_lexer": "ipython3",
   "version": "3.9.13"
  },
  "vscode": {
   "interpreter": {
    "hash": "defcfaaaa31debe8f1285792e705e7056fb72f7029ba840a942d4bd2872fa032"
   }
  }
 },
 "nbformat": 4,
 "nbformat_minor": 4
}
